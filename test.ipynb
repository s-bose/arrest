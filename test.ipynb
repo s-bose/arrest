{
 "cells": [
  {
   "cell_type": "code",
   "execution_count": 2,
   "metadata": {},
   "outputs": [],
   "source": [
    "import re\n",
    "\n",
    "# Match parameters in URL paths, eg. '{param}', and '{param:int}'\n",
    "PARAM_REGEX = re.compile(\"{([a-zA-Z_][a-zA-Z0-9_]*)(:[a-zA-Z_][a-zA-Z0-9_]*)?}\")\n"
   ]
  },
  {
   "cell_type": "code",
   "execution_count": 3,
   "metadata": {},
   "outputs": [
    {
     "name": "stdout",
     "output_type": "stream",
     "text": [
      "first='int', second='str'\n"
     ]
    }
   ],
   "source": [
    "path = \"{int}\"\n",
    "\n",
    "for match in PARAM_REGEX.finditer(path):\n",
    "    first, second = match.groups(\"str\")\n",
    "    print(f\"{first=}, {second=}\")"
   ]
  },
  {
   "cell_type": "code",
   "execution_count": 4,
   "metadata": {},
   "outputs": [],
   "source": [
    "path = \"123\"\n",
    "\n",
    "PARAM_REGEX.match(path)"
   ]
  },
  {
   "cell_type": "code",
   "execution_count": 5,
   "metadata": {},
   "outputs": [
    {
     "ename": "NameError",
     "evalue": "name 'Convertor' is not defined",
     "output_type": "error",
     "traceback": [
      "\u001b[0;31m---------------------------------------------------------------------------\u001b[0m",
      "\u001b[0;31mNameError\u001b[0m                                 Traceback (most recent call last)",
      "\u001b[1;32m/home/bose/Projects/arrest/test.ipynb Cell 4\u001b[0m line \u001b[0;36m5\n\u001b[1;32m      <a href='vscode-notebook-cell://wsl%2Bubuntu-22.04/home/bose/Projects/arrest/test.ipynb#W3sdnNjb2RlLXJlbW90ZQ%3D%3D?line=0'>1</a>\u001b[0m \u001b[39mimport\u001b[39;00m \u001b[39mtyping\u001b[39;00m\n\u001b[1;32m      <a href='vscode-notebook-cell://wsl%2Bubuntu-22.04/home/bose/Projects/arrest/test.ipynb#W3sdnNjb2RlLXJlbW90ZQ%3D%3D?line=2'>3</a>\u001b[0m \u001b[39mdef\u001b[39;00m \u001b[39mcompile_path\u001b[39m(\n\u001b[1;32m      <a href='vscode-notebook-cell://wsl%2Bubuntu-22.04/home/bose/Projects/arrest/test.ipynb#W3sdnNjb2RlLXJlbW90ZQ%3D%3D?line=3'>4</a>\u001b[0m     path: \u001b[39mstr\u001b[39m,\n\u001b[0;32m----> <a href='vscode-notebook-cell://wsl%2Bubuntu-22.04/home/bose/Projects/arrest/test.ipynb#W3sdnNjb2RlLXJlbW90ZQ%3D%3D?line=4'>5</a>\u001b[0m ) \u001b[39m-\u001b[39m\u001b[39m>\u001b[39m typing\u001b[39m.\u001b[39mTuple[typing\u001b[39m.\u001b[39mPattern[\u001b[39mstr\u001b[39m], \u001b[39mstr\u001b[39m, typing\u001b[39m.\u001b[39mDict[\u001b[39mstr\u001b[39m, Convertor[typing\u001b[39m.\u001b[39mAny]]]:\n\u001b[1;32m      <a href='vscode-notebook-cell://wsl%2Bubuntu-22.04/home/bose/Projects/arrest/test.ipynb#W3sdnNjb2RlLXJlbW90ZQ%3D%3D?line=5'>6</a>\u001b[0m \u001b[39m    \u001b[39m\u001b[39m\"\"\"\u001b[39;00m\n\u001b[1;32m      <a href='vscode-notebook-cell://wsl%2Bubuntu-22.04/home/bose/Projects/arrest/test.ipynb#W3sdnNjb2RlLXJlbW90ZQ%3D%3D?line=6'>7</a>\u001b[0m \u001b[39m    Given a path string, like: \"/{username:str}\",\u001b[39;00m\n\u001b[1;32m      <a href='vscode-notebook-cell://wsl%2Bubuntu-22.04/home/bose/Projects/arrest/test.ipynb#W3sdnNjb2RlLXJlbW90ZQ%3D%3D?line=7'>8</a>\u001b[0m \u001b[39m    or a host string, like: \"{subdomain}.mydomain.org\", return a three-tuple\u001b[39;00m\n\u001b[0;32m   (...)\u001b[0m\n\u001b[1;32m     <a href='vscode-notebook-cell://wsl%2Bubuntu-22.04/home/bose/Projects/arrest/test.ipynb#W3sdnNjb2RlLXJlbW90ZQ%3D%3D?line=12'>13</a>\u001b[0m \u001b[39m    convertors: {\"username\": StringConvertor()}\u001b[39;00m\n\u001b[1;32m     <a href='vscode-notebook-cell://wsl%2Bubuntu-22.04/home/bose/Projects/arrest/test.ipynb#W3sdnNjb2RlLXJlbW90ZQ%3D%3D?line=13'>14</a>\u001b[0m \u001b[39m    \"\"\"\u001b[39;00m\n\u001b[1;32m     <a href='vscode-notebook-cell://wsl%2Bubuntu-22.04/home/bose/Projects/arrest/test.ipynb#W3sdnNjb2RlLXJlbW90ZQ%3D%3D?line=14'>15</a>\u001b[0m     is_host \u001b[39m=\u001b[39m \u001b[39mnot\u001b[39;00m path\u001b[39m.\u001b[39mstartswith(\u001b[39m\"\u001b[39m\u001b[39m/\u001b[39m\u001b[39m\"\u001b[39m)\n",
      "\u001b[0;31mNameError\u001b[0m: name 'Convertor' is not defined"
     ]
    }
   ],
   "source": [
    "import typing\n",
    "\n",
    "def compile_path(\n",
    "    path: str,\n",
    ") -> typing.Tuple[typing.Pattern[str], str, typing.Dict[str, Convertor[typing.Any]]]:\n",
    "    \"\"\"\n",
    "    Given a path string, like: \"/{username:str}\",\n",
    "    or a host string, like: \"{subdomain}.mydomain.org\", return a three-tuple\n",
    "    of (regex, format, {param_name:convertor}).\n",
    "\n",
    "    regex:      \"/(?P<username>[^/]+)\"\n",
    "    format:     \"/{username}\"\n",
    "    convertors: {\"username\": StringConvertor()}\n",
    "    \"\"\"\n",
    "    is_host = not path.startswith(\"/\")\n",
    "\n",
    "    path_regex = \"^\"\n",
    "    path_format = \"\"\n",
    "    duplicated_params = set()\n",
    "\n",
    "    idx = 0\n",
    "    param_convertors = {}\n",
    "    for match in PARAM_REGEX.finditer(path):\n",
    "        param_name, convertor_type = match.groups(\"str\")\n",
    "        convertor_type = convertor_type.lstrip(\":\")\n",
    "        assert (\n",
    "            convertor_type in CONVERTOR_TYPES\n",
    "        ), f\"Unknown path convertor '{convertor_type}'\"\n",
    "        convertor = CONVERTOR_TYPES[convertor_type]\n",
    "\n",
    "        path_regex += re.escape(path[idx : match.start()])\n",
    "        path_regex += f\"(?P<{param_name}>{convertor.regex})\"\n",
    "\n",
    "        path_format += path[idx : match.start()]\n",
    "        path_format += \"{%s}\" % param_name\n",
    "\n",
    "        if param_name in param_convertors:\n",
    "            duplicated_params.add(param_name)\n",
    "\n",
    "        param_convertors[param_name] = convertor\n",
    "\n",
    "        idx = match.end()\n",
    "\n",
    "    if duplicated_params:\n",
    "        names = \", \".join(sorted(duplicated_params))\n",
    "        ending = \"s\" if len(duplicated_params) > 1 else \"\"\n",
    "        raise ValueError(f\"Duplicated param name{ending} {names} at path {path}\")\n",
    "\n",
    "    if is_host:\n",
    "        # Align with `Host.matches()` behavior, which ignores port.\n",
    "        hostname = path[idx:].split(\":\")[0]\n",
    "        path_regex += re.escape(hostname) + \"$\"\n",
    "    else:\n",
    "        path_regex += re.escape(path[idx:]) + \"$\"\n",
    "\n",
    "    path_format += path[idx:]\n",
    "\n",
    "    return re.compile(path_regex), path_format, param_convertors"
   ]
  },
  {
   "cell_type": "code",
   "execution_count": null,
   "metadata": {},
   "outputs": [
    {
     "ename": "ValueError",
     "evalue": "Duplicated param name post_id at path https://httpie.org/post/{post_id}/values/{post_id}",
     "output_type": "error",
     "traceback": [
      "\u001b[0;31m---------------------------------------------------------------------------\u001b[0m",
      "\u001b[0;31mValueError\u001b[0m                                Traceback (most recent call last)",
      "Cell \u001b[0;32mIn[7], line 1\u001b[0m\n\u001b[0;32m----> 1\u001b[0m path_regex, path_format, param_convertors \u001b[39m=\u001b[39m compile_path(\u001b[39m\"\u001b[39;49m\u001b[39mhttps://httpie.org/post/\u001b[39;49m\u001b[39m{post_id}\u001b[39;49;00m\u001b[39m/values/\u001b[39;49m\u001b[39m{post_id}\u001b[39;49;00m\u001b[39m\"\u001b[39;49m)\n\u001b[1;32m      3\u001b[0m path \u001b[39m=\u001b[39m \u001b[39m\"\u001b[39m\u001b[39mhttps://httpie.org/post/2/values/1\u001b[39m\u001b[39m\"\u001b[39m\n\u001b[1;32m      5\u001b[0m match \u001b[39m=\u001b[39m path_regex\u001b[39m.\u001b[39mmatch(path)\n",
      "Cell \u001b[0;32mIn[6], line 47\u001b[0m, in \u001b[0;36mcompile_path\u001b[0;34m(path)\u001b[0m\n\u001b[1;32m     45\u001b[0m     names \u001b[39m=\u001b[39m \u001b[39m\"\u001b[39m\u001b[39m, \u001b[39m\u001b[39m\"\u001b[39m\u001b[39m.\u001b[39mjoin(\u001b[39msorted\u001b[39m(duplicated_params))\n\u001b[1;32m     46\u001b[0m     ending \u001b[39m=\u001b[39m \u001b[39m\"\u001b[39m\u001b[39ms\u001b[39m\u001b[39m\"\u001b[39m \u001b[39mif\u001b[39;00m \u001b[39mlen\u001b[39m(duplicated_params) \u001b[39m>\u001b[39m \u001b[39m1\u001b[39m \u001b[39melse\u001b[39;00m \u001b[39m\"\u001b[39m\u001b[39m\"\u001b[39m\n\u001b[0;32m---> 47\u001b[0m     \u001b[39mraise\u001b[39;00m \u001b[39mValueError\u001b[39;00m(\u001b[39mf\u001b[39m\u001b[39m\"\u001b[39m\u001b[39mDuplicated param name\u001b[39m\u001b[39m{\u001b[39;00mending\u001b[39m}\u001b[39;00m\u001b[39m \u001b[39m\u001b[39m{\u001b[39;00mnames\u001b[39m}\u001b[39;00m\u001b[39m at path \u001b[39m\u001b[39m{\u001b[39;00mpath\u001b[39m}\u001b[39;00m\u001b[39m\"\u001b[39m)\n\u001b[1;32m     49\u001b[0m \u001b[39mif\u001b[39;00m is_host:\n\u001b[1;32m     50\u001b[0m     \u001b[39m# Align with `Host.matches()` behavior, which ignores port.\u001b[39;00m\n\u001b[1;32m     51\u001b[0m     hostname \u001b[39m=\u001b[39m path[idx:]\u001b[39m.\u001b[39msplit(\u001b[39m\"\u001b[39m\u001b[39m:\u001b[39m\u001b[39m\"\u001b[39m)[\u001b[39m0\u001b[39m]\n",
      "\u001b[0;31mValueError\u001b[0m: Duplicated param name post_id at path https://httpie.org/post/{post_id}/values/{post_id}"
     ]
    }
   ],
   "source": [
    "path_regex, path_format, param_convertors = compile_path(\"https://httpie.org/post/{post_id}/values/{post_id}\")\n",
    "\n",
    "path = \"https://httpie.org/post/2/values/1\"\n",
    "\n",
    "match = path_regex.match(path)\n",
    "if match:\n",
    "    matched_params = match.groupdict()\n",
    "    for key, value in matched_params.items():\n",
    "        print(key, value)"
   ]
  },
  {
   "cell_type": "code",
   "execution_count": null,
   "metadata": {},
   "outputs": [],
   "source": [
    "param_convertors"
   ]
  },
  {
   "cell_type": "code",
   "execution_count": null,
   "metadata": {},
   "outputs": [],
   "source": [
    "import urllib.parse\n",
    "\n",
    "part1 = \"https://httpie.org/post\"\n",
    "\n",
    "part2 = \"/values/1\"\n",
    "\n",
    "urllib.parse.urljoin(part1, part2)"
   ]
  },
  {
   "cell_type": "code",
   "execution_count": null,
   "metadata": {},
   "outputs": [],
   "source": [
    "urllib.parse.urlsplit(\"https://httpie.org/post\").path"
   ]
  },
  {
   "cell_type": "code",
   "execution_count": null,
   "metadata": {},
   "outputs": [
    {
     "data": {
      "text/plain": [
       "'xyz'"
      ]
     },
     "execution_count": 9,
     "metadata": {},
     "output_type": "execute_result"
    }
   ],
   "source": [
    "from pydantic import BaseModel, Field\n",
    "from typing import Optional, NamedTuple\n",
    "from arrest import params\n",
    "\n",
    "class RequestBody(BaseModel):\n",
    "    id: int = Field(...)\n",
    "    name: str\n",
    "    payment_id: Optional[str] = None\n",
    "    req_id: str = params.Query(default=\"xyz\")\n",
    "\n",
    "req = RequestBody(id=1, name=\"abc\", payment_id=\"1234\")\n",
    "req.model_fields\n",
    "getattr(req, \"req_id\")"
   ]
  },
  {
   "cell_type": "code",
   "execution_count": null,
   "metadata": {},
   "outputs": [],
   "source": [
    "from arrest.resource import ResourceHandler\n",
    "from arrest.http import Methods"
   ]
  },
  {
   "cell_type": "code",
   "execution_count": null,
   "metadata": {},
   "outputs": [],
   "source": [
    "handlers = [(Methods.GET, \"/\"), (Methods.POST, \"/payments\")]"
   ]
  },
  {
   "cell_type": "code",
   "execution_count": null,
   "metadata": {},
   "outputs": [
    {
     "ename": "ValidationError",
     "evalue": "1 validation error for ResourceHandler\ncallback\n  Input should be callable [type=callable_type, input_value=False, input_type=bool]\n    For further information visit https://errors.pydantic.dev/2.0.3/v/callable_type",
     "output_type": "error",
     "traceback": [
      "\u001b[0;31m---------------------------------------------------------------------------\u001b[0m",
      "\u001b[0;31mValidationError\u001b[0m                           Traceback (most recent call last)",
      "Cell \u001b[0;32mIn[5], line 1\u001b[0m\n\u001b[0;32m----> 1\u001b[0m ResourceHandler(method\u001b[39m=\u001b[39;49mMethods\u001b[39m.\u001b[39;49mPOST, route\u001b[39m=\u001b[39;49m\u001b[39m\"\u001b[39;49m\u001b[39m/\u001b[39;49m\u001b[39m\"\u001b[39;49m, request\u001b[39m=\u001b[39;49m\u001b[39mNone\u001b[39;49;00m, response\u001b[39m=\u001b[39;49m\u001b[39mNone\u001b[39;49;00m, callback\u001b[39m=\u001b[39;49m\u001b[39mFalse\u001b[39;49;00m)\n",
      "File \u001b[0;32m~/Projects/arrest/.venv/lib/python3.10/site-packages/pydantic/main.py:150\u001b[0m, in \u001b[0;36mBaseModel.__init__\u001b[0;34m(__pydantic_self__, **data)\u001b[0m\n\u001b[1;32m    148\u001b[0m \u001b[39m# `__tracebackhide__` tells pytest and some other tools to omit this function from tracebacks\u001b[39;00m\n\u001b[1;32m    149\u001b[0m __tracebackhide__ \u001b[39m=\u001b[39m \u001b[39mTrue\u001b[39;00m\n\u001b[0;32m--> 150\u001b[0m __pydantic_self__\u001b[39m.\u001b[39;49m__pydantic_validator__\u001b[39m.\u001b[39;49mvalidate_python(data, self_instance\u001b[39m=\u001b[39;49m__pydantic_self__)\n",
      "\u001b[0;31mValidationError\u001b[0m: 1 validation error for ResourceHandler\ncallback\n  Input should be callable [type=callable_type, input_value=False, input_type=bool]\n    For further information visit https://errors.pydantic.dev/2.0.3/v/callable_type"
     ]
    }
   ],
   "source": [
    "ResourceHandler(method=Methods.POST, route=\"/\", request=None, response=None, callback=False)"
   ]
  },
  {
   "cell_type": "code",
   "execution_count": null,
   "metadata": {},
   "outputs": [
    {
     "name": "stdout",
     "output_type": "stream",
     "text": [
      "None\n"
     ]
    }
   ],
   "source": [
    "print(1 > 2 and \"huzzah\" or None)"
   ]
  },
  {
   "cell_type": "code",
   "execution_count": null,
   "metadata": {},
   "outputs": [],
   "source": [
    "x = [1, 2]\n",
    "\n",
    "a, b, *rest = x[0], x[1], x[2:]"
   ]
  },
  {
   "cell_type": "code",
   "execution_count": null,
   "metadata": {},
   "outputs": [
    {
     "ename": "IndexError",
     "evalue": "list index out of range",
     "output_type": "error",
     "traceback": [
      "\u001b[0;31m---------------------------------------------------------------------------\u001b[0m",
      "\u001b[0;31mIndexError\u001b[0m                                Traceback (most recent call last)",
      "Cell \u001b[0;32mIn[26], line 1\u001b[0m\n\u001b[0;32m----> 1\u001b[0m rest[\u001b[39m1\u001b[39;49m]\n",
      "\u001b[0;31mIndexError\u001b[0m: list index out of range"
     ]
    }
   ],
   "source": [
    "rest[1]"
   ]
  },
  {
   "cell_type": "code",
   "execution_count": null,
   "metadata": {},
   "outputs": [
    {
     "data": {
      "text/plain": [
       "['a', 'b', 'c']"
      ]
     },
     "execution_count": 3,
     "metadata": {},
     "output_type": "execute_result"
    }
   ],
   "source": [
    "\"/a/b/c\".strip(\"/\").split(\"/\")"
   ]
  },
  {
   "cell_type": "code",
   "execution_count": null,
   "metadata": {},
   "outputs": [
    {
     "data": {
      "text/plain": [
       "'b'"
      ]
     },
     "execution_count": 5,
     "metadata": {},
     "output_type": "execute_result"
    }
   ],
   "source": [
    "\"/\".join([\"b\"])"
   ]
  },
  {
   "cell_type": "code",
   "execution_count": null,
   "metadata": {},
   "outputs": [],
   "source": [
    "import re\n",
    "\n",
    "pat = re.compile(\"/(?P<username>[^/]+)\")"
   ]
  },
  {
   "cell_type": "code",
   "execution_count": null,
   "metadata": {},
   "outputs": [],
   "source": [
    "def replace_params(\n",
    "    path: str,\n",
    "    path_params: dict[str, int],\n",
    ") -> tuple[str, dict[str, str]]:\n",
    "    for key, value in list(path_params.items()):\n",
    "        if \"{\" + key + \"}\" in path:\n",
    "            print(key)\n",
    "            value = str(value)\n",
    "            path = path.replace(\"{\" + key + \"}\", value)\n",
    "            path_params.pop(key)\n",
    "    return path, path_params"
   ]
  },
  {
   "cell_type": "code",
   "execution_count": null,
   "metadata": {},
   "outputs": [
    {
     "data": {
      "text/plain": [
       "('/path/{username:int}', {'username': 123})"
      ]
     },
     "execution_count": 25,
     "metadata": {},
     "output_type": "execute_result"
    }
   ],
   "source": [
    "replace_params(\"/path/{username:int}\", {\"username\": 123})"
   ]
  },
  {
   "cell_type": "code",
   "execution_count": null,
   "metadata": {},
   "outputs": [],
   "source": [
    "from arrest.converters import compile_path"
   ]
  },
  {
   "cell_type": "code",
   "execution_count": null,
   "metadata": {},
   "outputs": [],
   "source": [
    "pattern, path_format, path_param_types = compile_path(\"https://example.com/rest/path/{username:uuid}/posts/{post_id:uuid}\")"
   ]
  },
  {
   "cell_type": "code",
   "execution_count": null,
   "metadata": {},
   "outputs": [
    {
     "data": {
      "text/plain": [
       "False"
      ]
     },
     "execution_count": 12,
     "metadata": {},
     "output_type": "execute_result"
    }
   ],
   "source": [
    "requested_url = \"https://example.com/rest/path\"\n",
    "requested_url in path_format"
   ]
  },
  {
   "cell_type": "code",
   "execution_count": null,
   "metadata": {},
   "outputs": [
    {
     "name": "stderr",
     "output_type": "stream",
     "text": [
      "/tmp/ipykernel_1240/4065202313.py:8: PydanticDeprecatedSince20: The `validate` method is deprecated; use `model_validate` instead. Deprecated in Pydantic V2.0 to be removed in V3.0. See Pydantic V2 Migration Guide at https://errors.pydantic.dev/2.0.3/migration/\n",
      "  MyClass.validate({\"a\": 1, \"b\": \"1234\"})\n"
     ]
    },
    {
     "data": {
      "text/plain": [
       "MyClass(a=1, b=1234.0)"
      ]
     },
     "execution_count": 7,
     "metadata": {},
     "output_type": "execute_result"
    }
   ],
   "source": [
    "from pydantic import BaseModel\n",
    "\n",
    "class MyClass(BaseModel):\n",
    "    a: int\n",
    "    b: float\n",
    "\n",
    "\n",
    "MyClass.validate({\"a\": 1, \"b\": \"1234\"})"
   ]
  },
  {
   "cell_type": "code",
   "execution_count": 1,
   "metadata": {},
   "outputs": [
    {
     "ename": "ValueError",
     "evalue": "invalid literal for int() with base 10: 'xyz'",
     "output_type": "error",
     "traceback": [
      "\u001b[0;31m---------------------------------------------------------------------------\u001b[0m",
      "\u001b[0;31mValueError\u001b[0m                                Traceback (most recent call last)",
      "\u001b[1;32m/home/bose/Projects/arrest/test.ipynb Cell 25\u001b[0m line \u001b[0;36m4\n\u001b[1;32m      <a href='vscode-notebook-cell://wsl%2Bubuntu-22.04/home/bose/Projects/arrest/test.ipynb#X33sdnNjb2RlLXJlbW90ZQ%3D%3D?line=0'>1</a>\u001b[0m \u001b[39mfrom\u001b[39;00m \u001b[39marrest\u001b[39;00m\u001b[39m.\u001b[39;00m\u001b[39mconverters\u001b[39;00m \u001b[39mimport\u001b[39;00m replace_params\n\u001b[1;32m      <a href='vscode-notebook-cell://wsl%2Bubuntu-22.04/home/bose/Projects/arrest/test.ipynb#X33sdnNjb2RlLXJlbW90ZQ%3D%3D?line=1'>2</a>\u001b[0m \u001b[39mfrom\u001b[39;00m \u001b[39marrest\u001b[39;00m \u001b[39mimport\u001b[39;00m converters\n\u001b[0;32m----> <a href='vscode-notebook-cell://wsl%2Bubuntu-22.04/home/bose/Projects/arrest/test.ipynb#X33sdnNjb2RlLXJlbW90ZQ%3D%3D?line=3'>4</a>\u001b[0m replace_params(\u001b[39m\"\u001b[39;49m\u001b[39m/\u001b[39;49m\u001b[39m{param}\u001b[39;49;00m\u001b[39m\"\u001b[39;49m, path_params\u001b[39m=\u001b[39;49m{\u001b[39m\"\u001b[39;49m\u001b[39mparam\u001b[39;49m\u001b[39m\"\u001b[39;49m: \u001b[39m\"\u001b[39;49m\u001b[39mxyz\u001b[39;49m\u001b[39m\"\u001b[39;49m}, param_types\u001b[39m=\u001b[39;49m{\u001b[39m\"\u001b[39;49m\u001b[39mparam\u001b[39;49m\u001b[39m\"\u001b[39;49m: converters\u001b[39m.\u001b[39;49mIntegerConverter()})\n",
      "File \u001b[0;32m~/Projects/arrest/arrest/converters.py:131\u001b[0m, in \u001b[0;36mreplace_params\u001b[0;34m(path, path_params, param_types)\u001b[0m\n\u001b[1;32m    128\u001b[0m         \u001b[39mif\u001b[39;00m \u001b[39mnot\u001b[39;00m param_types:\n\u001b[1;32m    129\u001b[0m             value \u001b[39m=\u001b[39m \u001b[39mstr\u001b[39m(value)\n\u001b[0;32m--> 131\u001b[0m         path \u001b[39m=\u001b[39m path\u001b[39m.\u001b[39mreplace(\u001b[39m\"\u001b[39m\u001b[39m{\u001b[39m\u001b[39m\"\u001b[39m \u001b[39m+\u001b[39m key \u001b[39m+\u001b[39m \u001b[39m\"\u001b[39m\u001b[39m}\u001b[39m\u001b[39m\"\u001b[39m, param_types[key]\u001b[39m.\u001b[39;49mto_str(value))\n\u001b[1;32m    132\u001b[0m         path_params\u001b[39m.\u001b[39mpop(key)\n\u001b[1;32m    133\u001b[0m \u001b[39mreturn\u001b[39;00m path, path_params\n",
      "File \u001b[0;32m~/Projects/arrest/arrest/converters.py:30\u001b[0m, in \u001b[0;36mIntegerConverter.to_str\u001b[0;34m(self, value)\u001b[0m\n\u001b[1;32m     29\u001b[0m \u001b[39mdef\u001b[39;00m \u001b[39mto_str\u001b[39m(\u001b[39mself\u001b[39m, value: \u001b[39mint\u001b[39m) \u001b[39m-\u001b[39m\u001b[39m>\u001b[39m \u001b[39mstr\u001b[39m:\n\u001b[0;32m---> 30\u001b[0m     value \u001b[39m=\u001b[39m \u001b[39mint\u001b[39;49m(value)\n\u001b[1;32m     32\u001b[0m     \u001b[39massert\u001b[39;00m value \u001b[39m>\u001b[39m\u001b[39m=\u001b[39m \u001b[39m0\u001b[39m, \u001b[39m\"\u001b[39m\u001b[39mNegative integers are not supported\u001b[39m\u001b[39m\"\u001b[39m\n\u001b[1;32m     33\u001b[0m     \u001b[39mreturn\u001b[39;00m \u001b[39mstr\u001b[39m(value)\n",
      "\u001b[0;31mValueError\u001b[0m: invalid literal for int() with base 10: 'xyz'"
     ]
    }
   ],
   "source": [
    "from arrest.converters import replace_params\n",
    "from arrest import converters\n",
    "\n",
    "replace_params(\"/{param}\", path_params={\"param\": \"xyz\"}, param_types={\"param\": converters.IntegerConverter()})"
   ]
  }
 ],
 "metadata": {
  "kernelspec": {
   "display_name": ".venv",
   "language": "python",
   "name": "python3"
  },
  "language_info": {
   "codemirror_mode": {
    "name": "ipython",
    "version": 3
   },
   "file_extension": ".py",
   "mimetype": "text/x-python",
   "name": "python",
   "nbconvert_exporter": "python",
   "pygments_lexer": "ipython3",
   "version": "3.10.12"
  },
  "orig_nbformat": 4
 },
 "nbformat": 4,
 "nbformat_minor": 2
}
