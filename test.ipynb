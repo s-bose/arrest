{
 "cells": [
  {
   "cell_type": "code",
   "execution_count": 1,
   "metadata": {},
   "outputs": [],
   "source": [
    "from arrest.handler import ResourceHandler\n",
    "from arrest import Service, Resource\n",
    "import re"
   ]
  },
  {
   "cell_type": "code",
   "execution_count": 2,
   "metadata": {},
   "outputs": [],
   "source": [
    "svc = Service(\n",
    "    name=\"xyz\",\n",
    "    url=\"http://example.com\",\n",
    "    resources=[\n",
    "        Resource(\n",
    "            route=\"/user\",\n",
    "            handlers=[\n",
    "                (\"GET\", \"\"),\n",
    "            ],\n",
    "        )\n",
    "    ],\n",
    ")"
   ]
  },
  {
   "cell_type": "code",
   "execution_count": 3,
   "metadata": {},
   "outputs": [
    {
     "name": "stdout",
     "output_type": "stream",
     "text": [
      "path=''\n",
      "self.path_regex.fullmatch(path)=<re.Match object; span=(0, 0), match=''>\n"
     ]
    },
    {
     "data": {
      "text/plain": [
       "(ResourceHandler(method=GET, route='', request=None, response=None, callback=None, path_format='', path_regex=re.compile('^$'), param_types={}),\n",
       " 'http://example.com/user')"
      ]
     },
     "execution_count": 3,
     "metadata": {},
     "output_type": "execute_result"
    }
   ],
   "source": [
    "svc.user.get_matching_handler(method=\"GET\", path=\"\")"
   ]
  },
  {
   "cell_type": "code",
   "execution_count": 4,
   "metadata": {},
   "outputs": [],
   "source": [
    "from arrest.converters import IntegerConverter, Converter\n",
    "from typing import get_origin\n",
    "\n",
    "get_origin(IntegerConverter)"
   ]
  }
 ],
 "metadata": {
  "kernelspec": {
   "display_name": ".venv",
   "language": "python",
   "name": "python3"
  },
  "language_info": {
   "codemirror_mode": {
    "name": "ipython",
    "version": 3
   },
   "file_extension": ".py",
   "mimetype": "text/x-python",
   "name": "python",
   "nbconvert_exporter": "python",
   "pygments_lexer": "ipython3",
   "version": "3.10.12"
  }
 },
 "nbformat": 4,
 "nbformat_minor": 2
}
