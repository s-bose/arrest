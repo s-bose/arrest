{
 "cells": [
  {
   "cell_type": "code",
   "execution_count": 1,
   "metadata": {},
   "outputs": [],
   "source": [
    "import re\n",
    "\n",
    "# Match parameters in URL paths, eg. '{param}', and '{param:int}'\n",
    "PARAM_REGEX = re.compile(\"{([a-zA-Z_][a-zA-Z0-9_]*)(:[a-zA-Z_][a-zA-Z0-9_]*)?}\")\n"
   ]
  },
  {
   "cell_type": "code",
   "execution_count": 2,
   "metadata": {},
   "outputs": [
    {
     "name": "stdout",
     "output_type": "stream",
     "text": [
      "first='int', second='str'\n"
     ]
    }
   ],
   "source": [
    "path = \"{int}\"\n",
    "\n",
    "for match in PARAM_REGEX.finditer(path):\n",
    "    first, second = match.groups(\"str\")\n",
    "    print(f\"{first=}, {second=}\")"
   ]
  },
  {
   "cell_type": "code",
   "execution_count": 3,
   "metadata": {},
   "outputs": [],
   "source": [
    "path = \"123\"\n",
    "\n",
    "PARAM_REGEX.match(path)"
   ]
  },
  {
   "cell_type": "code",
   "execution_count": 4,
   "metadata": {},
   "outputs": [],
   "source": [
    "import math\n",
    "import typing\n",
    "import uuid\n",
    "\n",
    "T = typing.TypeVar(\"T\")\n",
    "\n",
    "\n",
    "class Convertor(typing.Generic[T]):\n",
    "    regex: typing.ClassVar[str] = \"\"\n",
    "\n",
    "    def convert(self, value: str) -> T:\n",
    "        raise NotImplementedError()  # pragma: no cover\n",
    "\n",
    "    def to_string(self, value: T) -> str:\n",
    "        raise NotImplementedError()  # pragma: no cover\n",
    "\n",
    "\n",
    "class StringConvertor(Convertor[str]):\n",
    "    regex = \"[^/]+\"\n",
    "\n",
    "    def convert(self, value: str) -> str:\n",
    "        return value\n",
    "\n",
    "    def to_string(self, value: str) -> str:\n",
    "        value = str(value)\n",
    "        assert \"/\" not in value, \"May not contain path separators\"\n",
    "        assert value, \"Must not be empty\"\n",
    "        return value\n",
    "\n",
    "\n",
    "class PathConvertor(Convertor[str]):\n",
    "    regex = \".*\"\n",
    "\n",
    "    def convert(self, value: str) -> str:\n",
    "        return str(value)\n",
    "\n",
    "    def to_string(self, value: str) -> str:\n",
    "        return str(value)\n",
    "\n",
    "\n",
    "class IntegerConvertor(Convertor[int]):\n",
    "    regex = \"[0-9]+\"\n",
    "\n",
    "    def convert(self, value: str) -> int:\n",
    "        return int(value)\n",
    "\n",
    "    def to_string(self, value: int) -> str:\n",
    "        value = int(value)\n",
    "        assert value >= 0, \"Negative integers are not supported\"\n",
    "        return str(value)\n",
    "\n",
    "\n",
    "class FloatConvertor(Convertor[float]):\n",
    "    regex = r\"[0-9]+(\\.[0-9]+)?\"\n",
    "\n",
    "    def convert(self, value: str) -> float:\n",
    "        return float(value)\n",
    "\n",
    "    def to_string(self, value: float) -> str:\n",
    "        value = float(value)\n",
    "        assert value >= 0.0, \"Negative floats are not supported\"\n",
    "        assert not math.isnan(value), \"NaN values are not supported\"\n",
    "        assert not math.isinf(value), \"Infinite values are not supported\"\n",
    "        return (\"%0.20f\" % value).rstrip(\"0\").rstrip(\".\")\n",
    "\n",
    "\n",
    "class UUIDConvertor(Convertor[uuid.UUID]):\n",
    "    regex = \"[0-9a-f]{8}-[0-9a-f]{4}-[0-9a-f]{4}-[0-9a-f]{4}-[0-9a-f]{12}\"\n",
    "\n",
    "    def convert(self, value: str) -> uuid.UUID:\n",
    "        return uuid.UUID(value)\n",
    "\n",
    "    def to_string(self, value: uuid.UUID) -> str:\n",
    "        return str(value)\n",
    "\n",
    "\n",
    "CONVERTOR_TYPES: typing.Dict[str, Convertor[typing.Any]] = {\n",
    "    \"str\": StringConvertor(),\n",
    "    \"path\": PathConvertor(),\n",
    "    \"int\": IntegerConvertor(),\n",
    "    \"float\": FloatConvertor(),\n",
    "    \"uuid\": UUIDConvertor(),\n",
    "}\n"
   ]
  },
  {
   "cell_type": "code",
   "execution_count": 5,
   "metadata": {},
   "outputs": [],
   "source": [
    "import typing\n",
    "\n",
    "def compile_path(\n",
    "    path: str,\n",
    ") -> typing.Tuple[typing.Pattern[str], str, typing.Dict[str, Convertor[typing.Any]]]:\n",
    "    \"\"\"\n",
    "    Given a path string, like: \"/{username:str}\",\n",
    "    or a host string, like: \"{subdomain}.mydomain.org\", return a three-tuple\n",
    "    of (regex, format, {param_name:convertor}).\n",
    "\n",
    "    regex:      \"/(?P<username>[^/]+)\"\n",
    "    format:     \"/{username}\"\n",
    "    convertors: {\"username\": StringConvertor()}\n",
    "    \"\"\"\n",
    "    is_host = not path.startswith(\"/\")\n",
    "\n",
    "    path_regex = \"^\"\n",
    "    path_format = \"\"\n",
    "    duplicated_params = set()\n",
    "\n",
    "    idx = 0\n",
    "    param_convertors = {}\n",
    "    for match in PARAM_REGEX.finditer(path):\n",
    "        param_name, convertor_type = match.groups(\"str\")\n",
    "        convertor_type = convertor_type.lstrip(\":\")\n",
    "        assert (\n",
    "            convertor_type in CONVERTOR_TYPES\n",
    "        ), f\"Unknown path convertor '{convertor_type}'\"\n",
    "        convertor = CONVERTOR_TYPES[convertor_type]\n",
    "\n",
    "        path_regex += re.escape(path[idx : match.start()])\n",
    "        path_regex += f\"(?P<{param_name}>{convertor.regex})\"\n",
    "\n",
    "        path_format += path[idx : match.start()]\n",
    "        path_format += \"{%s}\" % param_name\n",
    "\n",
    "        if param_name in param_convertors:\n",
    "            duplicated_params.add(param_name)\n",
    "\n",
    "        param_convertors[param_name] = convertor\n",
    "\n",
    "        idx = match.end()\n",
    "\n",
    "    if duplicated_params:\n",
    "        names = \", \".join(sorted(duplicated_params))\n",
    "        ending = \"s\" if len(duplicated_params) > 1 else \"\"\n",
    "        raise ValueError(f\"Duplicated param name{ending} {names} at path {path}\")\n",
    "\n",
    "    if is_host:\n",
    "        # Align with `Host.matches()` behavior, which ignores port.\n",
    "        hostname = path[idx:].split(\":\")[0]\n",
    "        path_regex += re.escape(hostname) + \"$\"\n",
    "    else:\n",
    "        path_regex += re.escape(path[idx:]) + \"$\"\n",
    "\n",
    "    path_format += path[idx:]\n",
    "\n",
    "    return re.compile(path_regex), path_format, param_convertors"
   ]
  },
  {
   "cell_type": "code",
   "execution_count": 18,
   "metadata": {},
   "outputs": [
    {
     "ename": "ValueError",
     "evalue": "Duplicated param name post_id at path https://httpie.org/post/{post_id}/values/{post_id}",
     "output_type": "error",
     "traceback": [
      "\u001b[0;31m---------------------------------------------------------------------------\u001b[0m",
      "\u001b[0;31mValueError\u001b[0m                                Traceback (most recent call last)",
      "Cell \u001b[0;32mIn[18], line 1\u001b[0m\n\u001b[0;32m----> 1\u001b[0m path_regex, path_format, param_convertors \u001b[39m=\u001b[39m compile_path(\u001b[39m\"\u001b[39;49m\u001b[39mhttps://httpie.org/post/\u001b[39;49m\u001b[39m{post_id}\u001b[39;49;00m\u001b[39m/values/\u001b[39;49m\u001b[39m{post_id}\u001b[39;49;00m\u001b[39m\"\u001b[39;49m)\n\u001b[1;32m      3\u001b[0m path \u001b[39m=\u001b[39m \u001b[39m\"\u001b[39m\u001b[39mhttps://httpie.org/post/2/values/1\u001b[39m\u001b[39m\"\u001b[39m\n\u001b[1;32m      5\u001b[0m match \u001b[39m=\u001b[39m path_regex\u001b[39m.\u001b[39mmatch(path)\n",
      "Cell \u001b[0;32mIn[5], line 47\u001b[0m, in \u001b[0;36mcompile_path\u001b[0;34m(path)\u001b[0m\n\u001b[1;32m     45\u001b[0m     names \u001b[39m=\u001b[39m \u001b[39m\"\u001b[39m\u001b[39m, \u001b[39m\u001b[39m\"\u001b[39m\u001b[39m.\u001b[39mjoin(\u001b[39msorted\u001b[39m(duplicated_params))\n\u001b[1;32m     46\u001b[0m     ending \u001b[39m=\u001b[39m \u001b[39m\"\u001b[39m\u001b[39ms\u001b[39m\u001b[39m\"\u001b[39m \u001b[39mif\u001b[39;00m \u001b[39mlen\u001b[39m(duplicated_params) \u001b[39m>\u001b[39m \u001b[39m1\u001b[39m \u001b[39melse\u001b[39;00m \u001b[39m\"\u001b[39m\u001b[39m\"\u001b[39m\n\u001b[0;32m---> 47\u001b[0m     \u001b[39mraise\u001b[39;00m \u001b[39mValueError\u001b[39;00m(\u001b[39mf\u001b[39m\u001b[39m\"\u001b[39m\u001b[39mDuplicated param name\u001b[39m\u001b[39m{\u001b[39;00mending\u001b[39m}\u001b[39;00m\u001b[39m \u001b[39m\u001b[39m{\u001b[39;00mnames\u001b[39m}\u001b[39;00m\u001b[39m at path \u001b[39m\u001b[39m{\u001b[39;00mpath\u001b[39m}\u001b[39;00m\u001b[39m\"\u001b[39m)\n\u001b[1;32m     49\u001b[0m \u001b[39mif\u001b[39;00m is_host:\n\u001b[1;32m     50\u001b[0m     \u001b[39m# Align with `Host.matches()` behavior, which ignores port.\u001b[39;00m\n\u001b[1;32m     51\u001b[0m     hostname \u001b[39m=\u001b[39m path[idx:]\u001b[39m.\u001b[39msplit(\u001b[39m\"\u001b[39m\u001b[39m:\u001b[39m\u001b[39m\"\u001b[39m)[\u001b[39m0\u001b[39m]\n",
      "\u001b[0;31mValueError\u001b[0m: Duplicated param name post_id at path https://httpie.org/post/{post_id}/values/{post_id}"
     ]
    }
   ],
   "source": [
    "path_regex, path_format, param_convertors = compile_path(\"https://httpie.org/post/{post_id}/values/{post_id}\")\n",
    "\n",
    "path = \"https://httpie.org/post/2/values/1\"\n",
    "\n",
    "match = path_regex.match(path)\n",
    "if match:\n",
    "    matched_params = match.groupdict()\n",
    "    for key, value in matched_params.items():\n",
    "        print(key, value)"
   ]
  },
  {
   "cell_type": "code",
   "execution_count": 17,
   "metadata": {},
   "outputs": [
    {
     "data": {
      "text/plain": [
       "{'post_id': <__main__.StringConvertor at 0x7f17c000a9b0>,\n",
       " 'path_id': <__main__.StringConvertor at 0x7f17c000a9b0>}"
      ]
     },
     "execution_count": 17,
     "metadata": {},
     "output_type": "execute_result"
    }
   ],
   "source": [
    "param_convertors"
   ]
  },
  {
   "cell_type": "code",
   "execution_count": 7,
   "metadata": {},
   "outputs": [
    {
     "data": {
      "text/plain": [
       "'https://httpie.org/values/1'"
      ]
     },
     "execution_count": 7,
     "metadata": {},
     "output_type": "execute_result"
    }
   ],
   "source": [
    "import urllib.parse\n",
    "\n",
    "part1 = \"https://httpie.org/post\"\n",
    "\n",
    "part2 = \"/values/1\"\n",
    "\n",
    "urllib.parse.urljoin(part1, part2)"
   ]
  },
  {
   "cell_type": "code",
   "execution_count": 10,
   "metadata": {},
   "outputs": [
    {
     "data": {
      "text/plain": [
       "'/post'"
      ]
     },
     "execution_count": 10,
     "metadata": {},
     "output_type": "execute_result"
    }
   ],
   "source": [
    "urllib.parse.urlsplit(\"https://httpie.org/post\").path"
   ]
  }
 ],
 "metadata": {
  "kernelspec": {
   "display_name": ".venv",
   "language": "python",
   "name": "python3"
  },
  "language_info": {
   "codemirror_mode": {
    "name": "ipython",
    "version": 3
   },
   "file_extension": ".py",
   "mimetype": "text/x-python",
   "name": "python",
   "nbconvert_exporter": "python",
   "pygments_lexer": "ipython3",
   "version": "3.10.6"
  },
  "orig_nbformat": 4
 },
 "nbformat": 4,
 "nbformat_minor": 2
}
