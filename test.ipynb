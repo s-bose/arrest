{
 "cells": [
  {
   "cell_type": "code",
   "execution_count": 1,
   "metadata": {},
   "outputs": [],
   "source": [
    "from arrest.handler import ResourceHandler\n",
    "from arrest import Service, Resource\n",
    "import re"
   ]
  },
  {
   "cell_type": "code",
   "execution_count": 10,
   "metadata": {},
   "outputs": [],
   "source": [
    "svc = Service(\n",
    "    name=\"xyz\",\n",
    "    url=\"http://example.com\",\n",
    "    resources=[\n",
    "        Resource(\n",
    "            route=\"/user\",\n",
    "            handlers=[\n",
    "                (\"GET\", \"\"),\n",
    "                (\"GET\", \"/\"),\n",
    "            ],\n",
    "        )\n",
    "    ],\n",
    ")"
   ]
  },
  {
   "cell_type": "code",
   "execution_count": 12,
   "metadata": {},
   "outputs": [
    {
     "name": "stdout",
     "output_type": "stream",
     "text": [
      "self.path_regex.fullmatch(path)=<re.Match object; span=(0, 0), match=''>\n"
     ]
    },
    {
     "data": {
      "text/plain": [
       "(ResourceHandler(method=GET, route='', request=None, response=None, callback=None, path_format='', path_regex=re.compile('^$'), param_types={}),\n",
       " 'http://example.com/user')"
      ]
     },
     "execution_count": 12,
     "metadata": {},
     "output_type": "execute_result"
    }
   ],
   "source": [
    "svc.user.get_matching_handler(method=\"GET\", path=\"\")"
   ]
  },
  {
   "cell_type": "code",
   "execution_count": 3,
   "metadata": {},
   "outputs": [],
   "source": [
    "import orjson\n",
    "from datetime import datetime"
   ]
  },
  {
   "cell_type": "code",
   "execution_count": 12,
   "metadata": {},
   "outputs": [],
   "source": [
    "import httpx"
   ]
  },
  {
   "cell_type": "code",
   "execution_count": 16,
   "metadata": {},
   "outputs": [],
   "source": [
    "x = orjson.loads(orjson.dumps({\"x_max_age\": 20, \"x_user_agent\": \"mozila\"}))"
   ]
  },
  {
   "cell_type": "code",
   "execution_count": 18,
   "metadata": {},
   "outputs": [
    {
     "ename": "AttributeError",
     "evalue": "'int' object has no attribute 'encode'",
     "output_type": "error",
     "traceback": [
      "\u001b[0;31m---------------------------------------------------------------------------\u001b[0m",
      "\u001b[0;31mAttributeError\u001b[0m                            Traceback (most recent call last)",
      "\u001b[1;32m/home/bose/Projects/arrest/test.ipynb Cell 7\u001b[0m line \u001b[0;36m1\n\u001b[0;32m----> <a href='vscode-notebook-cell:/home/bose/Projects/arrest/test.ipynb#X12sZmlsZQ%3D%3D?line=0'>1</a>\u001b[0m httpx\u001b[39m.\u001b[39;49mHeaders(x)\n",
      "File \u001b[0;32m~/Projects/arrest/.venv/lib/python3.11/site-packages/httpx/_models.py:71\u001b[0m, in \u001b[0;36mHeaders.__init__\u001b[0;34m(self, headers, encoding)\u001b[0m\n\u001b[1;32m     69\u001b[0m     \u001b[39mself\u001b[39m\u001b[39m.\u001b[39m_list \u001b[39m=\u001b[39m \u001b[39mlist\u001b[39m(headers\u001b[39m.\u001b[39m_list)\n\u001b[1;32m     70\u001b[0m \u001b[39melif\u001b[39;00m \u001b[39misinstance\u001b[39m(headers, Mapping):\n\u001b[0;32m---> 71\u001b[0m     \u001b[39mself\u001b[39m\u001b[39m.\u001b[39m_list \u001b[39m=\u001b[39m [\n\u001b[1;32m     72\u001b[0m         (\n\u001b[1;32m     73\u001b[0m             normalize_header_key(k, lower\u001b[39m=\u001b[39;49m\u001b[39mFalse\u001b[39;49;00m, encoding\u001b[39m=\u001b[39;49mencoding),\n\u001b[1;32m     74\u001b[0m             normalize_header_key(k, lower\u001b[39m=\u001b[39;49m\u001b[39mTrue\u001b[39;49;00m, encoding\u001b[39m=\u001b[39;49mencoding),\n\u001b[1;32m     75\u001b[0m             normalize_header_value(v, encoding),\n\u001b[1;32m     76\u001b[0m         )\n\u001b[1;32m     77\u001b[0m         \u001b[39mfor\u001b[39;49;00m k, v \u001b[39min\u001b[39;49;00m headers\u001b[39m.\u001b[39;49mitems()\n\u001b[1;32m     78\u001b[0m     ]\n\u001b[1;32m     79\u001b[0m \u001b[39melse\u001b[39;00m:\n\u001b[1;32m     80\u001b[0m     \u001b[39mself\u001b[39m\u001b[39m.\u001b[39m_list \u001b[39m=\u001b[39m [\n\u001b[1;32m     81\u001b[0m         (\n\u001b[1;32m     82\u001b[0m             normalize_header_key(k, lower\u001b[39m=\u001b[39m\u001b[39mFalse\u001b[39;00m, encoding\u001b[39m=\u001b[39mencoding),\n\u001b[0;32m   (...)\u001b[0m\n\u001b[1;32m     86\u001b[0m         \u001b[39mfor\u001b[39;00m k, v \u001b[39min\u001b[39;00m headers\n\u001b[1;32m     87\u001b[0m     ]\n",
      "File \u001b[0;32m~/Projects/arrest/.venv/lib/python3.11/site-packages/httpx/_models.py:75\u001b[0m, in \u001b[0;36m<listcomp>\u001b[0;34m(.0)\u001b[0m\n\u001b[1;32m     69\u001b[0m     \u001b[39mself\u001b[39m\u001b[39m.\u001b[39m_list \u001b[39m=\u001b[39m \u001b[39mlist\u001b[39m(headers\u001b[39m.\u001b[39m_list)\n\u001b[1;32m     70\u001b[0m \u001b[39melif\u001b[39;00m \u001b[39misinstance\u001b[39m(headers, Mapping):\n\u001b[1;32m     71\u001b[0m     \u001b[39mself\u001b[39m\u001b[39m.\u001b[39m_list \u001b[39m=\u001b[39m [\n\u001b[1;32m     72\u001b[0m         (\n\u001b[1;32m     73\u001b[0m             normalize_header_key(k, lower\u001b[39m=\u001b[39m\u001b[39mFalse\u001b[39;00m, encoding\u001b[39m=\u001b[39mencoding),\n\u001b[1;32m     74\u001b[0m             normalize_header_key(k, lower\u001b[39m=\u001b[39m\u001b[39mTrue\u001b[39;00m, encoding\u001b[39m=\u001b[39mencoding),\n\u001b[0;32m---> 75\u001b[0m             normalize_header_value(v, encoding),\n\u001b[1;32m     76\u001b[0m         )\n\u001b[1;32m     77\u001b[0m         \u001b[39mfor\u001b[39;00m k, v \u001b[39min\u001b[39;00m headers\u001b[39m.\u001b[39mitems()\n\u001b[1;32m     78\u001b[0m     ]\n\u001b[1;32m     79\u001b[0m \u001b[39melse\u001b[39;00m:\n\u001b[1;32m     80\u001b[0m     \u001b[39mself\u001b[39m\u001b[39m.\u001b[39m_list \u001b[39m=\u001b[39m [\n\u001b[1;32m     81\u001b[0m         (\n\u001b[1;32m     82\u001b[0m             normalize_header_key(k, lower\u001b[39m=\u001b[39m\u001b[39mFalse\u001b[39;00m, encoding\u001b[39m=\u001b[39mencoding),\n\u001b[0;32m   (...)\u001b[0m\n\u001b[1;32m     86\u001b[0m         \u001b[39mfor\u001b[39;00m k, v \u001b[39min\u001b[39;00m headers\n\u001b[1;32m     87\u001b[0m     ]\n",
      "File \u001b[0;32m~/Projects/arrest/.venv/lib/python3.11/site-packages/httpx/_utils.py:53\u001b[0m, in \u001b[0;36mnormalize_header_value\u001b[0;34m(value, encoding)\u001b[0m\n\u001b[1;32m     51\u001b[0m \u001b[39mif\u001b[39;00m \u001b[39misinstance\u001b[39m(value, \u001b[39mbytes\u001b[39m):\n\u001b[1;32m     52\u001b[0m     \u001b[39mreturn\u001b[39;00m value\n\u001b[0;32m---> 53\u001b[0m \u001b[39mreturn\u001b[39;00m value\u001b[39m.\u001b[39;49mencode(encoding \u001b[39mor\u001b[39;00m \u001b[39m\"\u001b[39m\u001b[39mascii\u001b[39m\u001b[39m\"\u001b[39m)\n",
      "\u001b[0;31mAttributeError\u001b[0m: 'int' object has no attribute 'encode'"
     ]
    }
   ],
   "source": [
    "httpx.Headers(x)"
   ]
  }
 ],
 "metadata": {
  "kernelspec": {
   "display_name": ".venv",
   "language": "python",
   "name": "python3"
  },
  "language_info": {
   "codemirror_mode": {
    "name": "ipython",
    "version": 3
   },
   "file_extension": ".py",
   "mimetype": "text/x-python",
   "name": "python",
   "nbconvert_exporter": "python",
   "pygments_lexer": "ipython3",
   "version": "3.11.3"
  }
 },
 "nbformat": 4,
 "nbformat_minor": 2
}
