{
 "cells": [
  {
   "cell_type": "code",
   "execution_count": 2,
   "metadata": {},
   "outputs": [],
   "source": [
    "import re\n",
    "\n",
    "# Match parameters in URL paths, eg. '{param}', and '{param:int}'\n",
    "PARAM_REGEX = re.compile(\"{([a-zA-Z_][a-zA-Z0-9_]*)(:[a-zA-Z_][a-zA-Z0-9_]*)?}\")\n"
   ]
  },
  {
   "cell_type": "code",
   "execution_count": 3,
   "metadata": {},
   "outputs": [
    {
     "name": "stdout",
     "output_type": "stream",
     "text": [
      "first='int', second='str'\n"
     ]
    }
   ],
   "source": [
    "path = \"{int}\"\n",
    "\n",
    "for match in PARAM_REGEX.finditer(path):\n",
    "    first, second = match.groups(\"str\")\n",
    "    print(f\"{first=}, {second=}\")"
   ]
  },
  {
   "cell_type": "code",
   "execution_count": 4,
   "metadata": {},
   "outputs": [],
   "source": [
    "path = \"123\"\n",
    "\n",
    "PARAM_REGEX.match(path)"
   ]
  },
  {
   "cell_type": "code",
   "execution_count": 6,
   "metadata": {},
   "outputs": [],
   "source": [
    "import typing\n",
    "\n",
    "def compile_path(\n",
    "    path: str,\n",
    ") -> typing.Tuple[typing.Pattern[str], str, typing.Dict[str, Convertor[typing.Any]]]:\n",
    "    \"\"\"\n",
    "    Given a path string, like: \"/{username:str}\",\n",
    "    or a host string, like: \"{subdomain}.mydomain.org\", return a three-tuple\n",
    "    of (regex, format, {param_name:convertor}).\n",
    "\n",
    "    regex:      \"/(?P<username>[^/]+)\"\n",
    "    format:     \"/{username}\"\n",
    "    convertors: {\"username\": StringConvertor()}\n",
    "    \"\"\"\n",
    "    is_host = not path.startswith(\"/\")\n",
    "\n",
    "    path_regex = \"^\"\n",
    "    path_format = \"\"\n",
    "    duplicated_params = set()\n",
    "\n",
    "    idx = 0\n",
    "    param_convertors = {}\n",
    "    for match in PARAM_REGEX.finditer(path):\n",
    "        param_name, convertor_type = match.groups(\"str\")\n",
    "        convertor_type = convertor_type.lstrip(\":\")\n",
    "        assert (\n",
    "            convertor_type in CONVERTOR_TYPES\n",
    "        ), f\"Unknown path convertor '{convertor_type}'\"\n",
    "        convertor = CONVERTOR_TYPES[convertor_type]\n",
    "\n",
    "        path_regex += re.escape(path[idx : match.start()])\n",
    "        path_regex += f\"(?P<{param_name}>{convertor.regex})\"\n",
    "\n",
    "        path_format += path[idx : match.start()]\n",
    "        path_format += \"{%s}\" % param_name\n",
    "\n",
    "        if param_name in param_convertors:\n",
    "            duplicated_params.add(param_name)\n",
    "\n",
    "        param_convertors[param_name] = convertor\n",
    "\n",
    "        idx = match.end()\n",
    "\n",
    "    if duplicated_params:\n",
    "        names = \", \".join(sorted(duplicated_params))\n",
    "        ending = \"s\" if len(duplicated_params) > 1 else \"\"\n",
    "        raise ValueError(f\"Duplicated param name{ending} {names} at path {path}\")\n",
    "\n",
    "    if is_host:\n",
    "        # Align with `Host.matches()` behavior, which ignores port.\n",
    "        hostname = path[idx:].split(\":\")[0]\n",
    "        path_regex += re.escape(hostname) + \"$\"\n",
    "    else:\n",
    "        path_regex += re.escape(path[idx:]) + \"$\"\n",
    "\n",
    "    path_format += path[idx:]\n",
    "\n",
    "    return re.compile(path_regex), path_format, param_convertors"
   ]
  },
  {
   "cell_type": "code",
   "execution_count": 7,
   "metadata": {},
   "outputs": [
    {
     "ename": "ValueError",
     "evalue": "Duplicated param name post_id at path https://httpie.org/post/{post_id}/values/{post_id}",
     "output_type": "error",
     "traceback": [
      "\u001b[0;31m---------------------------------------------------------------------------\u001b[0m",
      "\u001b[0;31mValueError\u001b[0m                                Traceback (most recent call last)",
      "Cell \u001b[0;32mIn[7], line 1\u001b[0m\n\u001b[0;32m----> 1\u001b[0m path_regex, path_format, param_convertors \u001b[39m=\u001b[39m compile_path(\u001b[39m\"\u001b[39;49m\u001b[39mhttps://httpie.org/post/\u001b[39;49m\u001b[39m{post_id}\u001b[39;49;00m\u001b[39m/values/\u001b[39;49m\u001b[39m{post_id}\u001b[39;49;00m\u001b[39m\"\u001b[39;49m)\n\u001b[1;32m      3\u001b[0m path \u001b[39m=\u001b[39m \u001b[39m\"\u001b[39m\u001b[39mhttps://httpie.org/post/2/values/1\u001b[39m\u001b[39m\"\u001b[39m\n\u001b[1;32m      5\u001b[0m match \u001b[39m=\u001b[39m path_regex\u001b[39m.\u001b[39mmatch(path)\n",
      "Cell \u001b[0;32mIn[6], line 47\u001b[0m, in \u001b[0;36mcompile_path\u001b[0;34m(path)\u001b[0m\n\u001b[1;32m     45\u001b[0m     names \u001b[39m=\u001b[39m \u001b[39m\"\u001b[39m\u001b[39m, \u001b[39m\u001b[39m\"\u001b[39m\u001b[39m.\u001b[39mjoin(\u001b[39msorted\u001b[39m(duplicated_params))\n\u001b[1;32m     46\u001b[0m     ending \u001b[39m=\u001b[39m \u001b[39m\"\u001b[39m\u001b[39ms\u001b[39m\u001b[39m\"\u001b[39m \u001b[39mif\u001b[39;00m \u001b[39mlen\u001b[39m(duplicated_params) \u001b[39m>\u001b[39m \u001b[39m1\u001b[39m \u001b[39melse\u001b[39;00m \u001b[39m\"\u001b[39m\u001b[39m\"\u001b[39m\n\u001b[0;32m---> 47\u001b[0m     \u001b[39mraise\u001b[39;00m \u001b[39mValueError\u001b[39;00m(\u001b[39mf\u001b[39m\u001b[39m\"\u001b[39m\u001b[39mDuplicated param name\u001b[39m\u001b[39m{\u001b[39;00mending\u001b[39m}\u001b[39;00m\u001b[39m \u001b[39m\u001b[39m{\u001b[39;00mnames\u001b[39m}\u001b[39;00m\u001b[39m at path \u001b[39m\u001b[39m{\u001b[39;00mpath\u001b[39m}\u001b[39;00m\u001b[39m\"\u001b[39m)\n\u001b[1;32m     49\u001b[0m \u001b[39mif\u001b[39;00m is_host:\n\u001b[1;32m     50\u001b[0m     \u001b[39m# Align with `Host.matches()` behavior, which ignores port.\u001b[39;00m\n\u001b[1;32m     51\u001b[0m     hostname \u001b[39m=\u001b[39m path[idx:]\u001b[39m.\u001b[39msplit(\u001b[39m\"\u001b[39m\u001b[39m:\u001b[39m\u001b[39m\"\u001b[39m)[\u001b[39m0\u001b[39m]\n",
      "\u001b[0;31mValueError\u001b[0m: Duplicated param name post_id at path https://httpie.org/post/{post_id}/values/{post_id}"
     ]
    }
   ],
   "source": [
    "path_regex, path_format, param_convertors = compile_path(\"https://httpie.org/post/{post_id}/values/{post_id}\")\n",
    "\n",
    "path = \"https://httpie.org/post/2/values/1\"\n",
    "\n",
    "match = path_regex.match(path)\n",
    "if match:\n",
    "    matched_params = match.groupdict()\n",
    "    for key, value in matched_params.items():\n",
    "        print(key, value)"
   ]
  },
  {
   "cell_type": "code",
   "execution_count": null,
   "metadata": {},
   "outputs": [],
   "source": [
    "param_convertors"
   ]
  },
  {
   "cell_type": "code",
   "execution_count": null,
   "metadata": {},
   "outputs": [],
   "source": [
    "import urllib.parse\n",
    "\n",
    "part1 = \"https://httpie.org/post\"\n",
    "\n",
    "part2 = \"/values/1\"\n",
    "\n",
    "urllib.parse.urljoin(part1, part2)"
   ]
  },
  {
   "cell_type": "code",
   "execution_count": null,
   "metadata": {},
   "outputs": [],
   "source": [
    "urllib.parse.urlsplit(\"https://httpie.org/post\").path"
   ]
  },
  {
   "cell_type": "code",
   "execution_count": 9,
   "metadata": {},
   "outputs": [
    {
     "data": {
      "text/plain": [
       "'xyz'"
      ]
     },
     "execution_count": 9,
     "metadata": {},
     "output_type": "execute_result"
    }
   ],
   "source": [
    "from pydantic import BaseModel, Field\n",
    "from typing import Optional, NamedTuple\n",
    "from arrest import params\n",
    "\n",
    "class RequestBody(BaseModel):\n",
    "    id: int = Field(...)\n",
    "    name: str\n",
    "    payment_id: Optional[str] = None\n",
    "    req_id: str = params.Query(default=\"xyz\")\n",
    "\n",
    "req = RequestBody(id=1, name=\"abc\", payment_id=\"1234\")\n",
    "req.model_fields\n",
    "getattr(req, \"req_id\")"
   ]
  },
  {
   "cell_type": "code",
   "execution_count": 1,
   "metadata": {},
   "outputs": [],
   "source": [
    "from arrest.resource import ResourceHandler\n",
    "from arrest.http import Methods"
   ]
  },
  {
   "cell_type": "code",
   "execution_count": 2,
   "metadata": {},
   "outputs": [],
   "source": [
    "handlers = [(Methods.GET, \"/\"), (Methods.POST, \"/payments\")]"
   ]
  },
  {
   "cell_type": "code",
   "execution_count": 5,
   "metadata": {},
   "outputs": [
    {
     "ename": "ValidationError",
     "evalue": "1 validation error for ResourceHandler\ncallback\n  Input should be callable [type=callable_type, input_value=False, input_type=bool]\n    For further information visit https://errors.pydantic.dev/2.0.3/v/callable_type",
     "output_type": "error",
     "traceback": [
      "\u001b[0;31m---------------------------------------------------------------------------\u001b[0m",
      "\u001b[0;31mValidationError\u001b[0m                           Traceback (most recent call last)",
      "Cell \u001b[0;32mIn[5], line 1\u001b[0m\n\u001b[0;32m----> 1\u001b[0m ResourceHandler(method\u001b[39m=\u001b[39;49mMethods\u001b[39m.\u001b[39;49mPOST, route\u001b[39m=\u001b[39;49m\u001b[39m\"\u001b[39;49m\u001b[39m/\u001b[39;49m\u001b[39m\"\u001b[39;49m, request\u001b[39m=\u001b[39;49m\u001b[39mNone\u001b[39;49;00m, response\u001b[39m=\u001b[39;49m\u001b[39mNone\u001b[39;49;00m, callback\u001b[39m=\u001b[39;49m\u001b[39mFalse\u001b[39;49;00m)\n",
      "File \u001b[0;32m~/Projects/arrest/.venv/lib/python3.10/site-packages/pydantic/main.py:150\u001b[0m, in \u001b[0;36mBaseModel.__init__\u001b[0;34m(__pydantic_self__, **data)\u001b[0m\n\u001b[1;32m    148\u001b[0m \u001b[39m# `__tracebackhide__` tells pytest and some other tools to omit this function from tracebacks\u001b[39;00m\n\u001b[1;32m    149\u001b[0m __tracebackhide__ \u001b[39m=\u001b[39m \u001b[39mTrue\u001b[39;00m\n\u001b[0;32m--> 150\u001b[0m __pydantic_self__\u001b[39m.\u001b[39;49m__pydantic_validator__\u001b[39m.\u001b[39;49mvalidate_python(data, self_instance\u001b[39m=\u001b[39;49m__pydantic_self__)\n",
      "\u001b[0;31mValidationError\u001b[0m: 1 validation error for ResourceHandler\ncallback\n  Input should be callable [type=callable_type, input_value=False, input_type=bool]\n    For further information visit https://errors.pydantic.dev/2.0.3/v/callable_type"
     ]
    }
   ],
   "source": [
    "ResourceHandler(method=Methods.POST, route=\"/\", request=None, response=None, callback=False)"
   ]
  },
  {
   "cell_type": "code",
   "execution_count": 7,
   "metadata": {},
   "outputs": [
    {
     "name": "stdout",
     "output_type": "stream",
     "text": [
      "None\n"
     ]
    }
   ],
   "source": [
    "print(1 > 2 and \"huzzah\" or None)"
   ]
  },
  {
   "cell_type": "code",
   "execution_count": 25,
   "metadata": {},
   "outputs": [],
   "source": [
    "x = [1, 2]\n",
    "\n",
    "a, b, *rest = x[0], x[1], x[2:]"
   ]
  },
  {
   "cell_type": "code",
   "execution_count": 26,
   "metadata": {},
   "outputs": [
    {
     "ename": "IndexError",
     "evalue": "list index out of range",
     "output_type": "error",
     "traceback": [
      "\u001b[0;31m---------------------------------------------------------------------------\u001b[0m",
      "\u001b[0;31mIndexError\u001b[0m                                Traceback (most recent call last)",
      "Cell \u001b[0;32mIn[26], line 1\u001b[0m\n\u001b[0;32m----> 1\u001b[0m rest[\u001b[39m1\u001b[39;49m]\n",
      "\u001b[0;31mIndexError\u001b[0m: list index out of range"
     ]
    }
   ],
   "source": [
    "rest[1]"
   ]
  },
  {
   "cell_type": "code",
   "execution_count": 3,
   "metadata": {},
   "outputs": [
    {
     "data": {
      "text/plain": [
       "['a', 'b', 'c']"
      ]
     },
     "execution_count": 3,
     "metadata": {},
     "output_type": "execute_result"
    }
   ],
   "source": [
    "\"/a/b/c\".strip(\"/\").split(\"/\")"
   ]
  },
  {
   "cell_type": "code",
   "execution_count": 5,
   "metadata": {},
   "outputs": [
    {
     "data": {
      "text/plain": [
       "'b'"
      ]
     },
     "execution_count": 5,
     "metadata": {},
     "output_type": "execute_result"
    }
   ],
   "source": [
    "\"/\".join([\"b\"])"
   ]
  },
  {
   "cell_type": "code",
   "execution_count": 8,
   "metadata": {},
   "outputs": [],
   "source": [
    "import re\n",
    "\n",
    "pat = re.compile(\"/(?P<username>[^/]+)\")"
   ]
  },
  {
   "cell_type": "code",
   "execution_count": 11,
   "metadata": {},
   "outputs": [],
   "source": [
    "def replace_params(\n",
    "    path: str,\n",
    "    path_params: dict[str, int],\n",
    ") -> tuple[str, dict[str, str]]:\n",
    "    for key, value in list(path_params.items()):\n",
    "        if \"{\" + key + \"}\" in path:\n",
    "            print(key)\n",
    "            value = str(value)\n",
    "            path = path.replace(\"{\" + key + \"}\", value)\n",
    "            path_params.pop(key)\n",
    "    return path, path_params"
   ]
  },
  {
   "cell_type": "code",
   "execution_count": 25,
   "metadata": {},
   "outputs": [
    {
     "data": {
      "text/plain": [
       "('/path/{username:int}', {'username': 123})"
      ]
     },
     "execution_count": 25,
     "metadata": {},
     "output_type": "execute_result"
    }
   ],
   "source": [
    "replace_params(\"/path/{username:int}\", {\"username\": 123})"
   ]
  },
  {
   "cell_type": "code",
   "execution_count": 4,
   "metadata": {},
   "outputs": [],
   "source": [
    "from arrest.converters import compile_path"
   ]
  },
  {
   "cell_type": "code",
   "execution_count": 7,
   "metadata": {},
   "outputs": [],
   "source": [
    "pattern, path_format, path_param_types = compile_path(\"/path/{username:uuid}\")"
   ]
  },
  {
   "cell_type": "code",
   "execution_count": 12,
   "metadata": {},
   "outputs": [
    {
     "name": "stdout",
     "output_type": "stream",
     "text": [
      "username\n"
     ]
    },
    {
     "data": {
      "text/plain": [
       "('/path/124', {})"
      ]
     },
     "execution_count": 12,
     "metadata": {},
     "output_type": "execute_result"
    }
   ],
   "source": [
    "replace_params(path=path_format, path_params={\"username\": 124})"
   ]
  }
 ],
 "metadata": {
  "kernelspec": {
   "display_name": ".venv",
   "language": "python",
   "name": "python3"
  },
  "language_info": {
   "codemirror_mode": {
    "name": "ipython",
    "version": 3
   },
   "file_extension": ".py",
   "mimetype": "text/x-python",
   "name": "python",
   "nbconvert_exporter": "python",
   "pygments_lexer": "ipython3",
   "version": "3.10.12"
  },
  "orig_nbformat": 4
 },
 "nbformat": 4,
 "nbformat_minor": 2
}
